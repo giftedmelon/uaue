{
 "cells": [
  {
   "cell_type": "code",
   "execution_count": 4,
   "metadata": {},
   "outputs": [],
   "source": [
    "import cv2\n",
    "\n",
    "def resize_image(input, output, size):\n",
    "    image= cv2.imread(input)\n",
    "    resized_image= cv2.resize(image,(size,size))\n",
    "    cv2.imwrite(output, resized_image)\n",
    "\n",
    "def jpeg_to_png(input, output):\n",
    "    image = cv2.imread(input)\n",
    "    cv2.imwrite(output,image, [cv2.IMWRITE_PNG_COMPRESSION, 0])"
   ]
  },
  {
   "cell_type": "markdown",
   "metadata": {},
   "source": [
    "Resize PNG"
   ]
  },
  {
   "cell_type": "code",
   "execution_count": 8,
   "metadata": {},
   "outputs": [],
   "source": [
    "input='pikachu.png'\n",
    "output='pikachu128.png'\n",
    "nsize=128\n",
    "\n",
    "resize_image(input,output,nsize)"
   ]
  },
  {
   "cell_type": "markdown",
   "metadata": {},
   "source": [
    "JPEG to PNG"
   ]
  },
  {
   "cell_type": "code",
   "execution_count": 5,
   "metadata": {},
   "outputs": [],
   "source": [
    "jpeg= 'pikachu.jpeg'\n",
    "png='pikachu.png'\n",
    "\n",
    "jpeg_to_png(jpeg,png)"
   ]
  }
 ],
 "metadata": {
  "kernelspec": {
   "display_name": "tensorflow",
   "language": "python",
   "name": "python3"
  },
  "language_info": {
   "codemirror_mode": {
    "name": "ipython",
    "version": 3
   },
   "file_extension": ".py",
   "mimetype": "text/x-python",
   "name": "python",
   "nbconvert_exporter": "python",
   "pygments_lexer": "ipython3",
   "version": "3.9.10"
  }
 },
 "nbformat": 4,
 "nbformat_minor": 2
}
